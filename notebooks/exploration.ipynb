{
 "cells": [
  {
   "cell_type": "code",
   "execution_count": 1,
   "id": "cc215ca8-8086-4ac0-b3e9-bfcfd487bd70",
   "metadata": {},
   "outputs": [],
   "source": [
    "import numpy as np\n",
    "import json\n",
    "import pandas as pd\n",
    "import plotly\n",
    "import matplotlib.pyplot as plt\n",
    "from os.path import exists"
   ]
  },
  {
   "cell_type": "code",
   "execution_count": 2,
   "id": "43d78299-0df2-47f7-864b-793077e8f073",
   "metadata": {},
   "outputs": [],
   "source": [
    "# Caragmos datos de los 3 datasets\n",
    "with open(\"../data/SistemaS2.json\") as file:\n",
    "    contratos = json.load(file)\n",
    "    \n",
    "with open(\"../data/Sistema3Servidores.json\") as file:\n",
    "    multas = json.load(file)\n",
    "    \n",
    "with open(\"../data/declaraciones.json\") as file:\n",
    "    declaraciones = json.load(file)"
   ]
  },
  {
   "cell_type": "code",
   "execution_count": 3,
   "id": "685445c7-9c67-4468-80b7-6b12ab52c95d",
   "metadata": {},
   "outputs": [
    {
     "name": "stdout",
     "output_type": "stream",
     "text": [
      "4927 925 40019\n"
     ]
    }
   ],
   "source": [
    "# Imprimimos tamaño de datasets\n",
    "print(len(contratos), len(multas), len(declaraciones))"
   ]
  },
  {
   "cell_type": "code",
   "execution_count": 5,
   "id": "d4ae785f-481b-46ff-a532-914cda41bc7c",
   "metadata": {},
   "outputs": [
    {
     "name": "stdout",
     "output_type": "stream",
     "text": [
      "Tenemos registros de 5414 personas.\n"
     ]
    }
   ],
   "source": [
    "if not exists('../data/relations.pkl'):\n",
    "    # Obtenemos curps individuales (numero de servidores públicos)\n",
    "\n",
    "    curps = []\n",
    "\n",
    "    for multa in multas:\n",
    "        curps.append(multa['servidorPublicoSancionado']['curp'])\n",
    "\n",
    "    for contrato in contratos: \n",
    "        curps.append(contrato['curp'])\n",
    "\n",
    "    for declaracion in declaraciones:\n",
    "        curps.append(declaracion['declaracion']['situacionPatrimonial']['datosGenerales']['curp'])\n",
    "\n",
    "    curps = set(curps)\n",
    "    \n",
    "    print(f\"Tenemos registros de {len(curps)} personas.\")\n",
    "    \n",
    "    # Dataframe para indices por persona.\n",
    "\n",
    "    aux = []\n",
    "    for i in range(len(curps)):\n",
    "        aux.append([[],[],[]])\n",
    "\n",
    "    df = pd.DataFrame(aux, index = curps, columns = ['Multas', 'Declaraciones', 'Contratos'])\n",
    "\n",
    "    for curp in curps:\n",
    "        for i, multa in enumerate(multas):\n",
    "            if multa['servidorPublicoSancionado']['curp'] == curp:\n",
    "                df.at[curp, 'Multas'].append(i)\n",
    "\n",
    "        for i, declaracion in enumerate(declaraciones):\n",
    "            if declaracion['declaracion']['situacionPatrimonial']['datosGenerales']['curp'] == curp:\n",
    "                df.at[curp, 'Declaraciones'].append(i)\n",
    "\n",
    "        for i, contrato in enumerate(contratos): \n",
    "            if contrato['curp'] == curp:\n",
    "                df.at[curp, 'Contratos'].append(i)\n",
    "                \n",
    "    df.to_pickle('../data/relations.pkl')\n",
    "\n",
    "else: \n",
    "    df = pd.read_pickle('../data/relations.pkl')"
   ]
  },
  {
   "cell_type": "code",
   "execution_count": 134,
   "id": "db088b05-c5d3-46b0-ae72-9c33418d181d",
   "metadata": {},
   "outputs": [],
   "source": [
    "aux = []\n",
    "n_multa = 0\n",
    "\n",
    "for i in range(len(df)):\n",
    "    curp = df.iloc[i]\n",
    "    if len(curp['Multas']) == 0 and len(curp['Declaraciones']) == 8:\n",
    "        aux.append(curp)\n",
    "        n_multa += len(curp['Multas'])"
   ]
  },
  {
   "cell_type": "code",
   "execution_count": 135,
   "id": "f47a4e47-0ef3-44a5-bc95-40bbb77f44d2",
   "metadata": {},
   "outputs": [
    {
     "data": {
      "text/plain": [
       "4501"
      ]
     },
     "execution_count": 135,
     "metadata": {},
     "output_type": "execute_result"
    }
   ],
   "source": [
    "len(aux)"
   ]
  },
  {
   "cell_type": "code",
   "execution_count": 136,
   "id": "aaf128de-4ea6-436a-952e-6cca9a2ebecd",
   "metadata": {},
   "outputs": [
    {
     "data": {
      "text/plain": [
       "0"
      ]
     },
     "execution_count": 136,
     "metadata": {},
     "output_type": "execute_result"
    }
   ],
   "source": [
    "n_multa"
   ]
  },
  {
   "cell_type": "code",
   "execution_count": null,
   "id": "f761312d-1f2f-4ed0-9891-712a2e0d5f7f",
   "metadata": {},
   "outputs": [],
   "source": []
  }
 ],
 "metadata": {
  "kernelspec": {
   "display_name": "Python 3 (ipykernel)",
   "language": "python",
   "name": "python3"
  },
  "language_info": {
   "codemirror_mode": {
    "name": "ipython",
    "version": 3
   },
   "file_extension": ".py",
   "mimetype": "text/x-python",
   "name": "python",
   "nbconvert_exporter": "python",
   "pygments_lexer": "ipython3",
   "version": "3.8.10"
  }
 },
 "nbformat": 4,
 "nbformat_minor": 5
}
